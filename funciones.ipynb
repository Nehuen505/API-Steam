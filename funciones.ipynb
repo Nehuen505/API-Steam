{
 "cells": [
  {
   "cell_type": "code",
   "execution_count": 2,
   "metadata": {},
   "outputs": [],
   "source": [
    "import pandas as pd\n",
    "import ast"
   ]
  },
  {
   "cell_type": "code",
   "execution_count": 3,
   "metadata": {},
   "outputs": [],
   "source": [
    "df = pd.read_csv('steam_games_limpio.csv', encoding='utf-8')\n",
    "# Convertir la columna \"release_date\" al tipo datetime\n",
    "df['release_date'] = pd.to_datetime(df['release_date'], errors='coerce')\n",
    "# Eliminamos una columna\n",
    "df.drop('Unnamed: 0', axis=1,inplace=True)"
   ]
  },
  {
   "cell_type": "markdown",
   "metadata": {},
   "source": [
    "Se ingresa un año y devuelve una lista con los 5 géneros más ofrecidos en el orden correspondiente."
   ]
  },
  {
   "cell_type": "code",
   "execution_count": 6,
   "metadata": {},
   "outputs": [
    {
     "name": "stdout",
     "output_type": "stream",
     "text": [
      "{'Indie': 5917, 'Action': 3517, 'Casual': 3141, 'Adventure': 2795, 'Strategy': 2255}\n"
     ]
    }
   ],
   "source": [
    "def genero(Año: str):\n",
    "    df_filtered = df[df['release_date'].dt.year == int(Año)]\n",
    "\n",
    "    df_filtered = df_filtered.dropna(subset=['genres'])\n",
    "\n",
    "    df_filtered['genres'] = df_filtered['genres'].apply(ast.literal_eval)\n",
    "\n",
    "    all_genres = [genre for sublist in df_filtered['genres'] for genre in sublist]\n",
    "\n",
    "    genre_counts = pd.Series(all_genres).value_counts()\n",
    "\n",
    "    top_genres_dict = genre_counts.head(5).to_dict()\n",
    "\n",
    "    return top_genres_dict\n",
    "\n",
    "# Ejemplo\n",
    "print(genero(2017))"
   ]
  },
  {
   "cell_type": "markdown",
   "metadata": {},
   "source": [
    "Se ingresa un año y devuelve una lista con los juegos lanzados en el año."
   ]
  },
  {
   "cell_type": "code",
   "execution_count": 7,
   "metadata": {},
   "outputs": [
    {
     "data": {
      "text/plain": [
       "0                 Lost Summoner Kitty\n",
       "1                           Ironbound\n",
       "5               Battle Royale Trainer\n",
       "6        SNOW - All Access Basic Pass\n",
       "7          SNOW - All Access Pro Pass\n",
       "                     ...             \n",
       "32049                           BAE 2\n",
       "32050                    Kebab it Up!\n",
       "32051                  Colony On Mars\n",
       "32052        LOGistICAL: South Africa\n",
       "32053                   Russian Roads\n",
       "Name: app_name, Length: 96, dtype: object"
      ]
     },
     "execution_count": 7,
     "metadata": {},
     "output_type": "execute_result"
    }
   ],
   "source": [
    "def juegos(Año:str):\n",
    "    df_filtered = df[df['release_date'].dt.year == int(Año)]\n",
    "\n",
    "    df_filtered = df_filtered.dropna(subset=['app_name'])\n",
    "\n",
    "    return df_filtered['app_name']\n",
    "\n",
    "# Ejemplo\n",
    "juegos(2018)"
   ]
  },
  {
   "cell_type": "markdown",
   "metadata": {},
   "source": [
    "Se ingresa un año y devuelve una lista con los 5 specs que más se repiten en el mismo en el orden correspondiente."
   ]
  },
  {
   "cell_type": "code",
   "execution_count": 8,
   "metadata": {},
   "outputs": [
    {
     "name": "stdout",
     "output_type": "stream",
     "text": [
      "{'Single-player': 87, 'Steam Achievements': 42, 'Steam Cloud': 22, 'Full controller support': 20, 'Steam Trading Cards': 18}\n"
     ]
    }
   ],
   "source": [
    "def specs(Año: str):\n",
    "    df_filtered = df[df['release_date'].dt.year == int(Año)]\n",
    "\n",
    "    df_filtered = df_filtered.dropna(subset=['specs'])\n",
    "\n",
    "    df_filtered['specs'] = df_filtered['specs'].apply(ast.literal_eval)\n",
    "\n",
    "    all_specs = [specs for sublist in df_filtered['specs'] for specs in sublist]\n",
    "\n",
    "    specs_counts = pd.Series(all_specs).value_counts()\n",
    "\n",
    "    top_specs_dict = specs_counts.head(5).to_dict()\n",
    "\n",
    "    return top_specs_dict\n",
    "\n",
    "# Ejemplo\n",
    "print(specs(2018))"
   ]
  },
  {
   "cell_type": "markdown",
   "metadata": {},
   "source": [
    "Cantidad de juegos lanzados en un año con early access."
   ]
  },
  {
   "cell_type": "code",
   "execution_count": 9,
   "metadata": {},
   "outputs": [
    {
     "data": {
      "text/plain": [
       "720"
      ]
     },
     "execution_count": 9,
     "metadata": {},
     "output_type": "execute_result"
    }
   ],
   "source": [
    "def earlyacces(Año:str):\n",
    "    df_filtered = df[df['release_date'].dt.year == int(Año)]\n",
    "    \n",
    "    df_filtered = df_filtered.dropna(subset=['early_access'])\n",
    "\n",
    "    cantidad_early_access = df_filtered['early_access'].sum()\n",
    "    \n",
    "    return cantidad_early_access\n",
    "\n",
    "# Ejemplo\n",
    "earlyacces(2017)"
   ]
  },
  {
   "cell_type": "markdown",
   "metadata": {},
   "source": [
    "Según el año de lanzamiento, se devuelve una lista con la cantidad de registros que se encuentren categorizados con un análisis de sentimiento."
   ]
  },
  {
   "cell_type": "code",
   "execution_count": 10,
   "metadata": {},
   "outputs": [
    {
     "name": "stdout",
     "output_type": "stream",
     "text": [
      "{'Mixed': 6, 'Mostly Positive': 3, 'Very Positive': 3, 'Mostly Negative': 1}\n"
     ]
    }
   ],
   "source": [
    "def sentiment(Año: str):\n",
    "    df_filtered = df[df['release_date'].dt.year == int(Año)]\n",
    "\n",
    "    df_filtered = df_filtered.dropna(subset=['sentiment'])\n",
    "\n",
    "    df_filtered = df_filtered[~df_filtered['sentiment'].str.contains('user reviews')]\n",
    "\n",
    "    sentiment_counts = df_filtered['sentiment'].value_counts()\n",
    "\n",
    "    sentiment_dict = sentiment_counts.to_dict()\n",
    "    \n",
    "    return sentiment_dict\n",
    "\n",
    "# Ejemplo\n",
    "print(sentiment(2018))"
   ]
  },
  {
   "cell_type": "markdown",
   "metadata": {},
   "source": [
    "Top 5 juegos según año con mayor metascore."
   ]
  },
  {
   "cell_type": "code",
   "execution_count": 11,
   "metadata": {},
   "outputs": [
    {
     "data": {
      "text/plain": [
       "{'OKAMI HD / 大神 絶景版': 93.0,\n",
       " 'Divinity: Original Sin 2': 93.0,\n",
       " 'Linelight': 90.0,\n",
       " 'Bayonetta': 90.0,\n",
       " 'F1™ 2017': 89.0}"
      ]
     },
     "execution_count": 11,
     "metadata": {},
     "output_type": "execute_result"
    }
   ],
   "source": [
    "def metascore(Año: str):\n",
    "    df_filtered = df[df['release_date'].dt.year == int(Año)]\n",
    "\n",
    "    df_filtered = df_filtered.dropna(subset=['metascore'])\n",
    "\n",
    "    df_sorted = df_filtered.sort_values(by='metascore', ascending=False)\n",
    "\n",
    "    top_5_games = df_sorted.head(5)\n",
    "\n",
    "    juegos_y_metascore = dict(zip(top_5_games['title'], top_5_games['metascore']))\n",
    "    \n",
    "    return juegos_y_metascore\n",
    "\n",
    "# Ejemplo\n",
    "metascore(2017)"
   ]
  }
 ],
 "metadata": {
  "kernelspec": {
   "display_name": "Python 3",
   "language": "python",
   "name": "python3"
  },
  "language_info": {
   "codemirror_mode": {
    "name": "ipython",
    "version": 3
   },
   "file_extension": ".py",
   "mimetype": "text/x-python",
   "name": "python",
   "nbconvert_exporter": "python",
   "pygments_lexer": "ipython3",
   "version": "3.11.2"
  },
  "orig_nbformat": 4
 },
 "nbformat": 4,
 "nbformat_minor": 2
}
