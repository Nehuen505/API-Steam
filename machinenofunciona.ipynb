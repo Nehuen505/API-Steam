{
 "cells": [
  {
   "cell_type": "code",
   "execution_count": null,
   "metadata": {},
   "outputs": [],
   "source": [
    "from sklearn.model_selection import train_test_split\n",
    "from sklearn.preprocessing import PolynomialFeatures\n",
    "from sklearn.tree import DecisionTreeRegressor\n",
    "from sklearn.metrics import mean_squared_error\n",
    "import pickle\n",
    "\n",
    "# Separar las variables independientes (X) y la variable objetivo (y)\n",
    "X = df2.drop(['price'], axis=1)\n",
    "y = df2['price']\n",
    "\n",
    "# Dividir el conjunto de datos en conjuntos de entrenamiento y prueba\n",
    "X_train, X_test, y_train, y_test = train_test_split(X, y, test_size=0.2, random_state=42)\n",
    "\n",
    "# Crear el modelo de regresión polinomial y entrenarlo\n",
    "grado_polinomial = 2  # Puedes ajustar el grado del polinomio según sea necesario\n",
    "poly = PolynomialFeatures(degree=grado_polinomial)\n",
    "X_train_poly = poly.fit_transform(X_train)\n",
    "X_test_poly = poly.transform(X_test)\n",
    "\n",
    "# Crear el modelo de árbol de decisión\n",
    "model = DecisionTreeRegressor(random_state=42)\n",
    "model.fit(X_train_poly, y_train)\n",
    "\n",
    "# Realizar predicciones en el conjunto de prueba\n",
    "y_pred = model.predict(X_test_poly)\n",
    "\n",
    "# Calcular el error cuadrático medio (RMSE)\n",
    "rmse = mean_squared_error(y_test, y_pred, squared=False)\n",
    "\n",
    "# Obtener los nombres de las columnas con las que se entrenó el modelo\n",
    "columnas_entrenamiento = poly.get_feature_names_out(input_features=X.columns)  # Obtener los nombres de las columnas polinomiales\n",
    "\n",
    "# Imprimir el RMSE\n",
    "print(\"RMSE:\", rmse)\n",
    "\n",
    "# Guardar el modelo, el RMSE y el nombre de las columnas en un archivo pickle\n",
    "with open('modelo_arbol_decision.pkl', 'wb') as archivo:\n",
    "    pickle.dump((model, rmse, columnas_entrenamiento), archivo)"
   ]
  },
  {
   "cell_type": "code",
   "execution_count": null,
   "metadata": {},
   "outputs": [],
   "source": [
    "import pickle\n",
    "\n",
    "# Guardar el modelo, el RMSE y el nombre de las columnas en un archivo pickle\n",
    "with open('modelo_entrenado.pkl', 'wb') as archivo:\n",
    "    pickle.dump((model, rmse, columnas_entrenamiento), archivo)"
   ]
  },
  {
   "cell_type": "code",
   "execution_count": null,
   "metadata": {},
   "outputs": [],
   "source": [
    "# Cargar el modelo, el RMSE y la lista de columnas desde el archivo pickle\n",
    "with open('modelo_arbol_decision.pkl', 'rb') as archivo:\n",
    "    model, rmse, columnas_entrenadas = pickle.load(archivo)\n",
    "\n",
    "# Crear el objeto PolynomialFeatures con el grado polinomial utilizado para entrenar el modelo\n",
    "grado_polinomial = 2  # Asegúrate de usar el mismo grado polinomial que se usó en el entrenamiento\n",
    "poly = PolynomialFeatures(degree=grado_polinomial)\n",
    "\n",
    "# Ajustar el objeto poly con los datos de entrenamiento\n",
    "X_train_poly = poly.fit_transform(X_train)\n",
    "\n",
    "def obtener_prediccion(generos, earlyaccess=True):\n",
    "    # Crear un DataFrame con todas las columnas polinomiales generadas durante el entrenamiento\n",
    "    datos_usuario = pd.DataFrame(columns=columnas_entrenadas)\n",
    "    datos_usuario.loc[0] = 0\n",
    "\n",
    "    # Asignar 1 a los géneros proporcionados por el usuario\n",
    "    for genero in generos:\n",
    "        if f'genre_{genero}' in datos_usuario.columns:\n",
    "            datos_usuario[f'genre_{genero}'] = 1\n",
    "\n",
    "    # Asignar el valor de early_access proporcionado por el usuario\n",
    "    datos_usuario['early_access'] = earlyaccess\n",
    "\n",
    "    # Aplicar la transformación polinomial a los datos de entrada\n",
    "    X_usuario_poly = poly.transform(datos_usuario)\n",
    "    X_usuario_poly = pd.DataFrame(X_usuario_poly, columns=poly.get_feature_names(columnas_entrenadas))\n",
    "\n",
    "    # Realizar la predicción utilizando el modelo\n",
    "    precio_prediccion = model.predict(X_usuario_poly)\n",
    "\n",
    "    # Devolver el precio y el RMSE\n",
    "    return {'precio': precio_prediccion.tolist(), 'rmse': rmse}"
   ]
  },
  {
   "cell_type": "code",
   "execution_count": null,
   "metadata": {},
   "outputs": [],
   "source": [
    "# Ahora puedes llamar a la función obtener_prediccion con los datos\n",
    "generos = ['Web Publishing']  # Ejemplo de géneros\n",
    "resultado = obtener_prediccion(generos, earlyaccess=False)\n",
    "\n",
    "print(\"Predicciones de precio:\", resultado['precio'])\n",
    "print(\"RMSE:\", resultado['rmse'])"
   ]
  }
 ],
 "metadata": {
  "language_info": {
   "name": "python"
  },
  "orig_nbformat": 4
 },
 "nbformat": 4,
 "nbformat_minor": 2
}
